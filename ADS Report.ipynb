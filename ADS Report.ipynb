{
 "cells": [
  {
   "cell_type": "markdown",
   "id": "7b1e28ff",
   "metadata": {
    "id": "7b1e28ff"
   },
   "source": [
    "## Algorithmic Data Science Report\n",
    "Candidate Number: 251038"
   ]
  },
  {
   "cell_type": "markdown",
   "id": "cdf0494b",
   "metadata": {
    "id": "cdf0494b"
   },
   "source": [
    "# Introduction\n",
    "\n",
    "In multiple fields of computer science, including linear algebra, optimisation, and machine learning, matrix multiplication is an essential process.\n",
    "\n",
    "In this report, two different approaches to computing matrix multiplication are explored and examined using Python. The standard approach, commonly referred to as the naive technique, it iterates over the rows and columns of two matrices, respectively. On the other hand, Strassen's method, named after its creator, German mathematician Volker Strassen, it offers an alternative approach that can achieve faster matrix multiplication.\n",
    "\n",
    "Throughout this Jupyter notebook, a comprehensive analysis will be provided of the complexity and memory requirements of different matrix multiplication algorithms, also, implementing the naı̈ve method of matrix multiplication using the MapReduce framework, offering empirical evidence and theoretical explanations to support the findings."
   ]
  },
  {
   "cell_type": "markdown",
   "id": "AIncsBsxLg81",
   "metadata": {
    "id": "AIncsBsxLg81"
   },
   "source": [
    "## Q1 Explain why the run time for the naı̈ve method of matrix multiplication is O(n3). Show that this is the case empirically. Estimate the constant for your implementation and computer."
   ]
  },
  {
   "cell_type": "markdown",
   "id": "1bfe5358",
   "metadata": {
    "id": "1bfe5358"
   },
   "source": [
    "\n",
    "### Matrix Multiplication: Naïve method\n",
    "The naive method of matrix multiplication involves multiplying each element of one matrix with every element of another matrix and using the dot product of relevant rows and columns to compute the resulting matrix. This process requires three nested loops: one for the rows of the first matrix, one for the columns of the second matrix, and an inner loop for actual multiplication and accumulation. The matrices' dimensions are denoted as follows:\n",
    "\n",
    "Matrix A: n x m\n",
    "\n",
    "Matrix B: m x p\n",
    "\n",
    "For each element C[i][j] in the resulting matrix C, the formula for matrix multiplication is the sum of products of corresponding elements from the ith row of Matrix A and the jth column of Matrix B:\n",
    "\n",
    "C[i][j] = A[i][0] * B[0][j] + A[i][1] * B[1][j] + ... + A[i][n-1] * B[n-1][j]\n",
    "\n",
    "In total, the naive matrix multiplication procedure involves n x p x m operations, since matrix C has n x p entries. This results in a time complexity of O(n * p * m).\n",
    "\n",
    "For square matrices (n x n), where n = m = p, the time complexity simplifies to O(n^3). This is why the naive matrix multiplication method has a cubic time complexity.\n",
    "\n",
    "To demonstrate this empirically by write a simple Python code and measure the execution time for different matrix sizes:"
   ]
  },
  {
   "cell_type": "code",
   "execution_count": 1,
   "id": "bbc653b1",
   "metadata": {
    "id": "bbc653b1"
   },
   "outputs": [],
   "source": [
    "import random\n",
    "import numpy as np\n",
    "import time\n",
    "\n",
    "#create a function to calculate summary statistics on the runtimes of a function on given input(s)\n",
    "def timeit(somefunc, *args, repeats=5, **kwargs): #measures the time taken to execute the function 5 times\n",
    "    times = []\n",
    "    while repeats > 0:\n",
    "        starttime = time.time()\n",
    "        ans = somefunc(*args, **kwargs)\n",
    "        endtime = time.time()\n",
    "        timetaken = endtime - starttime\n",
    "        times.append(timetaken)\n",
    "        repeats -= 1\n",
    "    mean = np.mean(times)\n",
    "    stdev = np.std(times)\n",
    "    return (mean, stdev)\n",
    "\n",
    "\n",
    "#create a function to compute naive matrix multiplication, assuming square matrices are input:\n",
    "def naive_multiply(A, B):\n",
    "    n = len(A)                                    #first determine the size of the matrices by retrieving the length of matrix A (assuming it is a square matrix)\n",
    "    C = np.zeros((n, n))                          #use the np.zeros() method to initialise a result matrix C with all members set to zero.\n",
    "\n",
    "    for i in range(n):                            #complexity is O(n)\n",
    "        for j in range(n):                        #complexity is O(n)\n",
    "            for k in range(n):                    #complexity is O(n)\n",
    "                C[i][j] += A[i][k] * B[k][j]\n",
    "\n",
    "    return C"
   ]
  },
  {
   "cell_type": "code",
   "execution_count": 2,
   "id": "36388500",
   "metadata": {
    "colab": {
     "base_uri": "https://localhost:8080/"
    },
    "executionInfo": {
     "elapsed": 216746,
     "status": "ok",
     "timestamp": 1692019379531,
     "user": {
      "displayName": "Ghada Rasim",
      "userId": "04869033906634521043"
     },
     "user_tz": -180
    },
    "id": "36388500",
    "outputId": "0541e353-7d11-4b94-d276-27195a9f48e4"
   },
   "outputs": [
    {
     "name": "stdout",
     "output_type": "stream",
     "text": [
      "[10, 20, 30, 40, 50, 60, 70, 80, 90, 100, 110, 120, 130, 140, 150, 160, 170, 180, 190]\n",
      "Runtime for naive method: [0.0008488655090332031, 0.0068610191345214845, 0.028998279571533205, 0.0637850284576416, 0.13666181564331054, 0.23036584854125977, 0.3806556224822998, 0.5528994083404541, 0.7778585433959961, 1.0545550346374513, 1.3031764030456543, 1.7987820625305175, 2.679206132888794, 2.7479427814483643, 3.218550109863281, 4.090335464477539, 4.625801086425781, 5.7174571514129635, 6.508955669403076] seconds\n"
     ]
    }
   ],
   "source": [
    "# measure the execution time of the matrix multiplication code for different matrix sizes\n",
    "# Define matrix sizes\n",
    "matrix_sizes = [x for x in range(10, 200, 10)]\n",
    "meanruntimes = []    #to store the mean runtimes of matrix multiplication for different matrix_sizes.\n",
    "\n",
    "for i in matrix_sizes:\n",
    "    # Create two random matrices\n",
    "\n",
    "    A = np.random.randint(9, size=(i, i))  #generate a random matrix A of size(i, i), the upper limit for the random integers will be 9.\n",
    "    B = np.random.randint(9, size=(i, i))  #generate a random matrix B of size(i, i), the upper limit for the random integers will be 9.\n",
    "\n",
    "    # Measure execution time\n",
    "    runstats = timeit(naive_multiply, A, B)\n",
    "    meanruntimes.append(runstats[0])       # the mean of the time taken for 5 runs is stored\n",
    "\n",
    "print(matrix_sizes)\n",
    "print(f\"Runtime for naive method: {meanruntimes} seconds\")"
   ]
  },
  {
   "cell_type": "code",
   "execution_count": 3,
   "id": "614a12ce",
   "metadata": {
    "colab": {
     "base_uri": "https://localhost:8080/"
    },
    "executionInfo": {
     "elapsed": 528,
     "status": "ok",
     "timestamp": 1692019385091,
     "user": {
      "displayName": "Ghada Rasim",
      "userId": "04869033906634521043"
     },
     "user_tz": -180
    },
    "id": "614a12ce",
    "outputId": "2d580117-c185-4fb4-bcf3-7f38ca79ad2c"
   },
   "outputs": [
    {
     "name": "stdout",
     "output_type": "stream",
     "text": [
      "    matrix_sizes  Mean Runtime\n",
      "0             10      0.000849\n",
      "1             20      0.006861\n",
      "2             30      0.028998\n",
      "3             40      0.063785\n",
      "4             50      0.136662\n",
      "5             60      0.230366\n",
      "6             70      0.380656\n",
      "7             80      0.552899\n",
      "8             90      0.777859\n",
      "9            100      1.054555\n",
      "10           110      1.303176\n",
      "11           120      1.798782\n",
      "12           130      2.679206\n",
      "13           140      2.747943\n",
      "14           150      3.218550\n",
      "15           160      4.090335\n",
      "16           170      4.625801\n",
      "17           180      5.717457\n",
      "18           190      6.508956\n"
     ]
    }
   ],
   "source": [
    "# Display the results in a table\n",
    "import pandas as pd\n",
    "df = pd.DataFrame({'matrix_sizes': matrix_sizes, 'Mean Runtime': meanruntimes})\n",
    "print(df)"
   ]
  },
  {
   "cell_type": "markdown",
   "id": "8bf0ed20",
   "metadata": {
    "id": "8bf0ed20"
   },
   "source": [
    "In the above table, it indicates the relationship of matrix sizes and running time. The results demonstrate how the runtime increases as the matrix size grows."
   ]
  },
  {
   "cell_type": "markdown",
   "id": "ce1753e6",
   "metadata": {
    "id": "ce1753e6"
   },
   "source": [
    "#### Estimate the constant for your implementation and computer\n",
    "To estimate the constant, measure execution times for various matrix sizes and fit the data to a cubic function. The constant's value can be influenced by factors like CPU architecture, memory hierarchy, compiler optimizations, and more.\n",
    "\n",
    "In the equation $y=c_a x^\\alpha$, mathematical analysis can be used. Taking logarithms of both sides leads to:\n",
    "\n",
    "$$\\log(y) = \\log(c_a) + \\alpha \\log(x)$$\n",
    "\n",
    "Plotting log(y) against log(x) results in a linear relationship. The slope of the line indicates $\\alpha$, while the $y$-intercept corresponds to $\\log(c_a)$.\n",
    "\n",
    "By graphing the log of runtime against the log of matrix sizes, assuming the function is of the form $y=c_a x^\\alpha$, a log-log plot yields a straight line. This approach helps estimate the constant and power exponent for the algorithm and computer configuration."
   ]
  },
  {
   "cell_type": "code",
   "execution_count": 4,
   "id": "b76aa461",
   "metadata": {
    "colab": {
     "base_uri": "https://localhost:8080/",
     "height": 413
    },
    "executionInfo": {
     "elapsed": 1317,
     "status": "ok",
     "timestamp": 1692019407638,
     "user": {
      "displayName": "Ghada Rasim",
      "userId": "04869033906634521043"
     },
     "user_tz": -180
    },
    "id": "b76aa461",
    "outputId": "f74b234e-abfd-4a24-ca49-afd92c6dd1f7"
   },
   "outputs": [
    {
     "data": {
      "image/png": "[encoded data removed]",
      "text/plain": [
       "<Figure size 576x288 with 2 Axes>"
      ]
     },
     "metadata": {
      "needs_background": "light"
     },
     "output_type": "display_data"
    }
   ],
   "source": [
    "# to plot the results\n",
    "#import the necessary libraries for numerical computation(NumPy), data visualization(Matplotlib)\n",
    "import numpy as np\n",
    "import matplotlib.pyplot as plt\n",
    "\n",
    "# plot the x variable: matrix size against our y variable: mean run time (seconds)\n",
    "plt.subplots(1,2, figsize=(8,4)) #it will contain two subplots side by side.the size of the figure in inches (width, height).\n",
    "plt.suptitle(\"Empirical Runtime Analysis for Naive method of Matrix Multiplication\", fontsize=12)\n",
    "\n",
    "#Plot raw data\n",
    "plt.subplot(1,2,1)  #the figure has 1 row, 2 columns, and this plot is the first plot.\n",
    "plt.scatter(matrix_sizes,meanruntimes,c = 'blue', marker = '*', s= 30)\n",
    "plt.xlabel(\"Dimension of Square Matrix\")\n",
    "plt.ylabel(\"Mean Runtime (Seconds)\")\n",
    "\n",
    "\n",
    "#Calculate and plot log10 of raw data\n",
    "plt.subplot(1,2,2)  #the figure has 1 row, 2 columns, and this plot is the second plot.\n",
    "Logmatrix_sizes=np.log10(matrix_sizes)\n",
    "Logmeanruntimes=np.log10(meanruntimes)\n",
    "plt.scatter(Logmatrix_sizes,Logmeanruntimes,c = 'green', marker = '*', s= 30)\n",
    "plt.xlabel(\"log10 Dimension of Square Matrix\")\n",
    "plt.ylabel(\"Log10 Mean Runtime (Seconds)\")\n",
    "plt.tight_layout()\n",
    "plt.show()\n"
   ]
  },
  {
   "cell_type": "markdown",
   "id": "ca8c3bb7",
   "metadata": {
    "id": "ca8c3bb7"
   },
   "source": [
    "Above shows the increasing mean run times associated with increased matrix size. Using the log base 10 of the two inputs, can calculate the slope (gradient) to give an approximate order to run time.\n",
    "\n",
    "Inspecting the graph we can see that this is fairly straight and the gradient is approximately 2.5 to 3. The y intercept is about -6 so $c_a \\approx 10^{-6} = 0.000001$.\n",
    "\n",
    "To get more accurate values we can use the linear regression functions in scipy"
   ]
  },
  {
   "cell_type": "code",
   "execution_count": 5,
   "id": "bb0f035c",
   "metadata": {
    "colab": {
     "base_uri": "https://localhost:8080/"
    },
    "executionInfo": {
     "elapsed": 1219,
     "status": "ok",
     "timestamp": 1692019416229,
     "user": {
      "displayName": "Ghada Rasim",
      "userId": "04869033906634521043"
     },
     "user_tz": -180
    },
    "id": "bb0f035c",
    "outputId": "ed07b684-1957-457a-ca65-e28ba90bab9b"
   },
   "outputs": [
    {
     "name": "stdout",
     "output_type": "stream",
     "text": [
      "Slope is 3.0342802674741125 and intercept is -6.0596022402268765\n"
     ]
    }
   ],
   "source": [
    "import scipy.stats as stats\n",
    "\n",
    "#Use the stats library to calculate the slope\n",
    "res = stats.linregress(Logmatrix_sizes,Logmeanruntimes)\n",
    "print(\"Slope is {} and intercept is {}\".format(res.slope,res.intercept))"
   ]
  },
  {
   "cell_type": "markdown",
   "id": "32ab0c7a",
   "metadata": {
    "id": "32ab0c7a"
   },
   "source": [
    "So based on the obtained results of running time of the naı̈ve method of matrix multiplication; the slope has been calculated as 3.03 and y intercept as -6, The constant is   $10^{-6}$. It means that naı̈ve method of matrix multiplication which has been quite and fairly straight and the slope is almost 3. So according to analysis from the above and findins, the  running time $y\\approx c_a.x^{3.03} \\longrightarrow$ $O(n^3)$.\n",
    "\n",
    "The empirical analysis of this findings shows that we have almost  $ O(n^{3.03})$ which is so close compare to $O(n^3)$. So, overall as long as the naı̈ve matrix_sizes increases, it will have possibility to becoming more close to O(n^3)."
   ]
  },
  {
   "cell_type": "markdown",
   "id": "f416d7fb",
   "metadata": {
    "id": "f416d7fb"
   },
   "source": [
    "__________________________________________________________________"
   ]
  },
  {
   "cell_type": "markdown",
   "id": "943ce910",
   "metadata": {
    "id": "943ce910"
   },
   "source": [
    "## Q2 Explain why the run time for Strassen’s method of matrix multiplication is asymptotically faster than $O(n^3)$. Assuming that Strassen’s method has time complexity of the form $O(n^a)$, estimate a empirically. Estimate the constant for your implementation and computer."
   ]
  },
  {
   "cell_type": "markdown",
   "id": "50cd51cc",
   "metadata": {
    "id": "50cd51cc"
   },
   "source": [
    "### Matrix Multiplication: Strassen's Method\n",
    "\n",
    "Strassen's matrix multiplication time complexity is significantly faster than O(n^3) due to its divide-and-conquer approach. It recursively breaks down n x n matrices into (n/2) x (n/2) matrices, reducing the number of multiplications needed. With only 7 multiplications and 18 additions/subtractions this leads to a lower overall computational complexity. As a result, the time complexity is $O(n^{log2(7)})$, which is approximately $O(n^{2.81})$, outperforming the O(n^3) of traditional iterative methods.\n",
    "\n",
    "For complexity analysis, execution times can be modeled with the function $f(n) = c * n^a$, where f(n) is execution time, n is matrix size, c is a constant, and \"a\" is the estimated exponent. The exponent \"a\" would ideally be closer to $log2(7)$ for Strassen's algorithm.\n",
    "\n",
    "Strassen's algorithm benefits from input matrices with power-of-2 dimensions, which facilitate efficient recursive submatrix division. Using powers of 2 for matrix sizes aids in testing the algorithm across relevant dimensions and streamlines the recursive process, enhancing overall efficiency."
   ]
  },
  {
   "cell_type": "code",
   "execution_count": 6,
   "id": "558a7db2",
   "metadata": {
    "id": "558a7db2"
   },
   "outputs": [],
   "source": [
    "# code for implementing Strassen's method\n",
    "# multiplication of two n x n matrices is recursively broken down into the multiplication of (n/2) x (n/2) matrices\n",
    "\n",
    "import numpy as np\n",
    "# Function to divide a matrix into four submatrices\n",
    "def segment(M):\n",
    "    (mm,nn)=np.shape(M)\n",
    "    n = int(mm/2)\n",
    "\n",
    "\n",
    "    a = M[:n, :n]  # Top-left submatrix\n",
    "    b = M[:n, n:]  # Top-right submatrix\n",
    "    c = M[n:, :n]  # Bottom-left submatrix\n",
    "    d = M[n:, n:]  # Bottom-right submatrix\n",
    "\n",
    "\n",
    "    return (a,b,c,d)\n",
    "\n",
    "# Function to build a matrix from four submatrices\n",
    "def build(a,b,c,d):\n",
    "\n",
    "    (mm,nn)=np.shape(a)\n",
    "    C=np.zeros([2*mm,2*mm])    # Initialize a new matrix C with double the size of the input submatrices\n",
    "\n",
    "    C[:mm,:mm]=a               # Fill the top-left quadrant of C with matrix a\n",
    "    C[:mm,mm:]=b               # Fill the top-right quadrant of C with matrix b\n",
    "    C[mm:,:mm]=c               # Fill the bottom-left quadrant of C with matrix c\n",
    "    C[mm:,mm:]=d               # Fill the bottom-right quadrant of C with matrix d\n",
    "\n",
    "    return C\n",
    "\n",
    "# Strassen's matrix multiplication algorithm\n",
    "def strassen(M1, M2):\n",
    "    # Base case: If the matrices are small enough, use regular matrix multiplication\n",
    "    if len(M1) <= 2:\n",
    "        return naive_multiply(M1,M2) # A hypothetical function to perform standard matrix multiplication\n",
    "\n",
    "\n",
    " # Divide the input matrices into submatrices\n",
    "    (a,b,c,d) = segment(M1)\n",
    "    #note: e g f h NOT e f g h\n",
    "    (e,g,f,h) = segment(M2)\n",
    "\n",
    "    # Recursive steps of the Strassen algorithm\n",
    "    P1 = strassen(a, g-h)\n",
    "    P2 = strassen(a+b, h)\n",
    "    P3 = strassen(c+d,e)\n",
    "    P4 = strassen(d,f-e)\n",
    "    P5 = strassen(a+d,e+h)\n",
    "    P6 = strassen(b-d,f+h)\n",
    "    P7 = strassen(a-c,e+g)\n",
    "\n",
    "\n",
    "    # Combine the computed products to form the resulting matrix\n",
    "    r = P5+P4-P2+P6\n",
    "    s = P1+P2\n",
    "    t = P3+P4\n",
    "    u = P5-P3-P7+P1\n",
    "\n",
    "    C = build(r,s,t,u)\n",
    "\n",
    "    return C"
   ]
  },
  {
   "cell_type": "code",
   "execution_count": 7,
   "id": "cd83d00b",
   "metadata": {
    "colab": {
     "base_uri": "https://localhost:8080/"
    },
    "executionInfo": {
     "elapsed": 3,
     "status": "ok",
     "timestamp": 1691937403177,
     "user": {
      "displayName": "Ghada Rasim",
      "userId": "04869033906634521043"
     },
     "user_tz": -180
    },
    "id": "cd83d00b",
    "outputId": "3af5ab5b-f858-4274-fed4-f8a5795ece8e"
   },
   "outputs": [
    {
     "name": "stdout",
     "output_type": "stream",
     "text": [
      "[[ 90. 100. 110. 120.]\n",
      " [202. 228. 254. 280.]\n",
      " [314. 356. 398. 440.]\n",
      " [426. 484. 542. 600.]]\n",
      "[[ 90. 100. 110. 120.]\n",
      " [202. 228. 254. 280.]\n",
      " [314. 356. 398. 440.]\n",
      " [426. 484. 542. 600.]]\n"
     ]
    }
   ],
   "source": [
    "#Verify that this code gives the same output as the naive method:\n",
    "E = np.array([[1,2,3,4],[5,6,7,8],[9,10,11,12],[13,14,15,16]])\n",
    "\n",
    "print(naive_multiply(E,E))\n",
    "\n",
    "print(strassen(E,E))"
   ]
  },
  {
   "cell_type": "code",
   "execution_count": 8,
   "id": "d0a0869c",
   "metadata": {
    "id": "d0a0869c"
   },
   "outputs": [],
   "source": [
    "#create a function to calculate summary statistics on the runtimes of a function on given input(s)\n",
    "def timeit(somefunc, *args, repeats=5, **kwargs): #measures the time taken to execute the function 5 times\n",
    "    times = []     # List to store execution times of each repetition\n",
    "\n",
    "    while repeats > 0:\n",
    "        starttime = time.time()           # Record the current time before executing the function\n",
    "        ans = somefunc(*args, **kwargs)   # Call the provided function with given arguments\n",
    "        endtime = time.time()             # Record the current time after executing the function\n",
    "        timetaken = endtime - starttime   # Calculate the time taken for the function execution\n",
    "        times.append(timetaken)           # Store the execution time in the list\n",
    "        repeats -= 1                      # Decrease the number of repetitions by 1\n",
    "    mean = np.mean(times)                 # Calculate the mean (average) execution time from the list\n",
    "    stdev = np.std(times)                 # Calculate the standard deviation of execution times\n",
    "    return (mean, stdev)                  # Return the mean and standard deviation as a tuple"
   ]
  },
  {
   "cell_type": "code",
   "execution_count": 9,
   "id": "bfe4a7af",
   "metadata": {
    "colab": {
     "base_uri": "https://localhost:8080/"
    },
    "executionInfo": {
     "elapsed": 629040,
     "status": "ok",
     "timestamp": 1691938038630,
     "user": {
      "displayName": "Ghada Rasim",
      "userId": "04869033906634521043"
     },
     "user_tz": -180
    },
    "id": "bfe4a7af",
    "outputId": "f77b10d5-f95a-4881-fc7b-b67d3d39f84b"
   },
   "outputs": [
    {
     "name": "stdout",
     "output_type": "stream",
     "text": [
      "[4, 8, 16, 32, 64, 128, 256, 512]\n",
      "[0.00019993782043457032, 0.0008884906768798828, 0.002768993377685547, 0.039426231384277345, 0.28922233581542967, 1.87986216545105, 14.328898239135743, 168.124676322937]\n"
     ]
    }
   ],
   "source": [
    "matrix_sizes2 = [2 ** i for i in range(2, 10)]  #generating a list of matrix sizes that are increasing powers of 2\n",
    "\n",
    "meanruntimes2 = []\n",
    "\n",
    "for i in matrix_sizes2:\n",
    "    A = np.random.randint(9, size=(i, i))\n",
    "    B = np.random.randint(9, size=(i, i))\n",
    "    runstats2 = timeit(strassen, A, B)\n",
    "    meanruntimes2.append(runstats2[0])\n",
    "\n",
    "print(matrix_sizes2)\n",
    "print(meanruntimes2)"
   ]
  },
  {
   "cell_type": "markdown",
   "id": "a545053a",
   "metadata": {
    "id": "a545053a"
   },
   "source": [
    "From the output, it can observe that as the matrix size increases, the runtime also increases. This aligns with the expected behavior of Strassen's algorithm, where the algorithm becomes less efficient as the input size grows, but it still demonstrates a subquadratic growth rate compared to the cubic growth rate of the naive matrix multiplication algorithm."
   ]
  },
  {
   "cell_type": "markdown",
   "id": "cebfd533",
   "metadata": {
    "id": "cebfd533"
   },
   "source": [
    "#### Estimate the constant for your implementation and computer.\n",
    "\n",
    "To find empirically the runtime complexity, measure the runtime for different matrix sizes and observe how it scales with the input size."
   ]
  },
  {
   "cell_type": "code",
   "execution_count": 10,
   "id": "9d937bd8",
   "metadata": {
    "colab": {
     "base_uri": "https://localhost:8080/",
     "height": 413
    },
    "executionInfo": {
     "elapsed": 3675,
     "status": "ok",
     "timestamp": 1691938065544,
     "user": {
      "displayName": "Ghada Rasim",
      "userId": "04869033906634521043"
     },
     "user_tz": -180
    },
    "id": "9d937bd8",
    "outputId": "6f080bbd-f1b1-4a66-c89f-29c80ae90901"
   },
   "outputs": [
    {
     "data": {
      "image/png": "[encoded data removed]",
      "text/plain": [
       "<Figure size 576x288 with 2 Axes>"
      ]
     },
     "metadata": {
      "needs_background": "light"
     },
     "output_type": "display_data"
    }
   ],
   "source": [
    "# measure the execution time of the matrix multiplication code for different matrix sizes\n",
    "import numpy as np\n",
    "import matplotlib.pyplot as plt\n",
    "\n",
    "#plot the our x variable: matrix size against  y variable: mean run time (seconds)\n",
    "plt.subplots(1,2, figsize=(8,4)) #it will contain two subplots side by side.the size of the figure in inches (width, height).\n",
    "plt.suptitle(\"Runtime Analysis for Strassen's Method of Matrix Multiplication \", fontsize=12)\n",
    "\n",
    "#Plot raw data\n",
    "plt.subplot(1,2,1)    #the figure has 1 row, 2 columns, and this plot is the first plot.\n",
    "plt.scatter(matrix_sizes2,meanruntimes2,c = 'blue', marker = '*', s= 30)\n",
    "plt.xlabel(\"Dimension of Square Matrix\")\n",
    "plt.ylabel(\"Mean Time (Seconds)\")\n",
    "\n",
    "#Calculate and plot log10 of raw data\n",
    "plt.subplot(1,2,2)   #the figure has 1 row, 2 columns, and this plot is the second plot.\n",
    "Logmatrix_sizes2=np.log10(matrix_sizes2)\n",
    "Logmeanruntimes2=np.log10(meanruntimes2)\n",
    "\n",
    "plt.scatter(Logmatrix_sizes2,Logmeanruntimes2,c = 'green', marker = '*', s= 30)\n",
    "plt.xlabel(\"log10 Dimension of Square Matrix\")\n",
    "plt.ylabel(\"Log10 Mean Time (Seconds)\")\n",
    "plt.tight_layout()\n",
    "plt.show()\n"
   ]
  },
  {
   "cell_type": "code",
   "execution_count": 11,
   "id": "d3595b34",
   "metadata": {
    "colab": {
     "base_uri": "https://localhost:8080/"
    },
    "executionInfo": {
     "elapsed": 398,
     "status": "ok",
     "timestamp": 1691938071587,
     "user": {
      "displayName": "Ghada Rasim",
      "userId": "04869033906634521043"
     },
     "user_tz": -180
    },
    "id": "d3595b34",
    "outputId": "8f068256-5645-49cf-88bc-ed335790fda0"
   },
   "outputs": [
    {
     "name": "stdout",
     "output_type": "stream",
     "text": [
      "Slope is 2.8422975972973963 and intercept is -5.655285445135516\n"
     ]
    }
   ],
   "source": [
    "import scipy.stats as stats\n",
    "\n",
    "#Use the stats library to calculate the slope\n",
    "res = stats.linregress(Logmatrix_sizes2,Logmeanruntimes2)\n",
    "print(\"Slope is {} and intercept is {}\".format(res.slope,res.intercept))"
   ]
  },
  {
   "cell_type": "markdown",
   "id": "7cb91b5c",
   "metadata": {
    "id": "7cb91b5c"
   },
   "source": [
    "The implementation of Strassen's matrix multiplication has a constant factor of approximately $10^{-5}$ and exhibits a runtime complexity of about $O(n^{2.84})$. As the input matrix size (n) increases, the algorithm's runtime grows with an exponent of 2.84. This exponent closely approximates the ideal value of $log2(7)$, a is approximately = 2.84\n",
    "\n",
    "The overall estimated time complexity, accounting for the constant factor, is expressed as $O(c \\cdot n^{2.84})$, where the empirically determined constant factor is around $10^{-5}$.\n",
    "\n",
    "So, the complete complexity estimate with the constant factor is $O (c^{10−5}.n^{2.84})$."
   ]
  },
  {
   "cell_type": "markdown",
   "id": "00be7bfa",
   "metadata": {
    "id": "00be7bfa"
   },
   "source": [
    "The slope of the resulting line provides an estimate of how the runtime grows as the input size increases. In the case of a complexity model like $O(n^a)$, the exponent \"a\" represents how the runtime grows as a power of the input size \"n.\"\n",
    "\n",
    "Therefore, in the empirical analysis, the slope of the linear regression line can be interpreted as an estimate of the exponent \"a\" in the time complexity of Strassen's method. This estimate gives insights into how the algorithm's runtime scales with the input size and helps to understand its performance characteristics.\n",
    "\n",
    "This value of a represents the observed behavior of Strassen's algorithm on the specific hardware and test cases used in my analysis. The actual value of \"a\" might be influenced by various factors such as hardware, software optimizations, and memory access patterns."
   ]
  },
  {
   "cell_type": "markdown",
   "id": "bbd5e67f",
   "metadata": {
    "id": "bbd5e67f"
   },
   "source": [
    "__________________________________________________________________"
   ]
  },
  {
   "cell_type": "markdown",
   "id": "2f3037a0",
   "metadata": {
    "id": "2f3037a0"
   },
   "source": [
    "## Q3 Considering the naïve method and Strassen’s method, is one of them better in terms of memory requirements? Explain your answer."
   ]
  },
  {
   "cell_type": "markdown",
   "id": "d0e987c3",
   "metadata": {
    "id": "d0e987c3"
   },
   "source": [
    "Strassen's method of matrix multiplication is a more complex algorithm compared to the naive technique. This complexity leads to higher memory overhead, as it requires storing submatrices and interim results. In contrast, the naive method directly computes matrix elements, resulting in lower memory usage.\n",
    "\n",
    "Strassen's algorithm uses recursive matrix multiplications with submatrices, which can demand exponentially more memory as matrix size increases. Despite this memory overhead, Strassen's method can be faster for large matrix multiplications due to its subquadratic time complexity. The naive method, with its simpler direct computation, has a cubic runtime complexity but requires less memory.\n",
    "\n",
    "Choosing between these methods depends on the problem size and available resources. For n by n square matrices, memory needs are calculated by considering 4 bytes per element in original matrices, 4 bytes for the result matrix, and additional memory for temporary storage within the algorithm. This results in a total memory equation of M = $3(n^2)$ + 4."
   ]
  },
  {
   "cell_type": "code",
   "execution_count": 12,
   "id": "a4447e6a",
   "metadata": {
    "colab": {
     "base_uri": "https://localhost:8080/",
     "height": 487
    },
    "executionInfo": {
     "elapsed": 1660,
     "status": "ok",
     "timestamp": 1691938095938,
     "user": {
      "displayName": "Ghada Rasim",
      "userId": "04869033906634521043"
     },
     "user_tz": -180
    },
    "id": "a4447e6a",
    "outputId": "4842a0f6-f684-4c1e-bbde-70b135df8946"
   },
   "outputs": [
    {
     "data": {
      "image/png": "[encoded data removed]",
      "text/plain": [
       "<Figure size 432x288 with 1 Axes>"
      ]
     },
     "metadata": {
      "needs_background": "light"
     },
     "output_type": "display_data"
    }
   ],
   "source": [
    "import numpy as np\n",
    "import matplotlib.pyplot as plt\n",
    "\n",
    "# Naive method memory calculation\n",
    "def naive_memory(sizes):\n",
    "    return [3 * 4 * (x**2) + 4 for x in sizes]\n",
    "\n",
    "# Strassen method memory calculation\n",
    "def strassen_memory(sizes):\n",
    "    ybytes2 = []\n",
    "    for x in sizes:\n",
    "        Bytes = 3 * 4 * (x**2) + 4            # Initialize memory usage with base calculation\n",
    "        for i in range(2, x):\n",
    "            if i % 2 == 0:\n",
    "                SubBytes = 6 * 4 * (i**2)     # Additional memory usage for Strassen method\n",
    "                Bytes += SubBytes\n",
    "        ybytes2.append(Bytes)                 # Store the calculated memory usage for each matrix size\n",
    "    return ybytes2\n",
    "\n",
    "sizes = [x for x in range(10, 1000)]          # Generate a list of matrix sizes\n",
    "\n",
    "# Calculate memory usage for both methods using different matrix sizes\n",
    "naive_memoryusage = naive_memory(sizes)\n",
    "strassen_memoryusage = strassen_memory(sizes)\n",
    "\n",
    "# Create a scatter plot comparing memory usage of both methods\n",
    "plt.scatter(sizes, naive_memoryusage, s=2, c='blue', label='Naive Method')\n",
    "plt.scatter(sizes, strassen_memoryusage, s=2, c='red', label='Strassen Method')\n",
    "plt.xlabel(\"Dimension of Square Matrix\", c='green')\n",
    "plt.ylabel(\"Bytes of Memory Taken to Execute\", c='green')\n",
    "plt.title(\"Memory Requirements for Square Matrix Multiplication\", c='green')\n",
    "plt.legend()\n",
    "plt.show()\n"
   ]
  },
  {
   "cell_type": "markdown",
   "id": "6f24c58e",
   "metadata": {
    "id": "6f24c58e"
   },
   "source": [
    "The graph shows that for smaller sized matrices, the memory requirements for both approaches are similar however as matrix size increases, the Strassen method requires exponentially more memory than the naive approach.\n",
    "\n",
    "This provides a rough estimate of memory usage, and the actual memory footprint may vary depending on various factors, including memory management strategies and Python interpreter behavior."
   ]
  },
  {
   "cell_type": "markdown",
   "id": "04a121de",
   "metadata": {
    "id": "04a121de"
   },
   "source": [
    "__________________________________________________________________"
   ]
  },
  {
   "cell_type": "markdown",
   "id": "52fb636f",
   "metadata": {
    "id": "52fb636f"
   },
   "source": [
    "## Q4 When would you use the naı̈ve method and when would you use Strassen’s method for matrix multiplication? Explain your answer, illustrating it with empirical examples run on your computer, and outlining all the factors to be considered.\n"
   ]
  },
  {
   "cell_type": "markdown",
   "id": "0c0e9e2c",
   "metadata": {
    "id": "0c0e9e2c"
   },
   "source": [
    "There are certain factors to consider when deciding whether to use the naïve method or Strassen's method for matrix multiplication.\n",
    "\n",
    "Naive Method:\n",
    "\n",
    "The naive method is simpler to implement and consumes less memory compared to Strassen's method.\n",
    "It performs well for small to medium-sized matrices because its cubic time complexity has minimal impact on performance.\n",
    "For smaller matrices, the naive method is often faster due to its straightforward nature and lower overhead.\n",
    "\n",
    "Strassen's Method:\n",
    "\n",
    "Strassen's method becomes advantageous when dealing with large matrices, benefiting from its subquadratic time complexity compared to the cubic complexity of the naive method.\n",
    "It excels with sizable matrices that can take advantage of recursive submatrix calculations, reducing the number of required multiplications.\n",
    "Strassen's method uses more memory due to its recursive structure and intermediate submatrix storage. It works best on systems with ample memory and efficient memory management.\n",
    "The overhead introduced by the recursive steps might outweigh the multiplication reduction benefits for moderately sized matrices.\n",
    "The use of \"O\" notation indicates the algorithm's efficiency in terms of time complexity. The naive method has a time complexity of O(n^3), while Strassen's method has a lower complexity of approximately O(n^2.7). This suggests that Strassen's method is generally more efficient. This efficiency difference can be visualized by plotting the average run times of both methods on the same graph.\n"
   ]
  },
  {
   "cell_type": "code",
   "execution_count": 13,
   "id": "3445a586",
   "metadata": {
    "colab": {
     "base_uri": "https://localhost:8080/",
     "height": 487
    },
    "executionInfo": {
     "elapsed": 1080,
     "status": "ok",
     "timestamp": 1691938102407,
     "user": {
      "displayName": "Ghada Rasim",
      "userId": "04869033906634521043"
     },
     "user_tz": -180
    },
    "id": "3445a586",
    "outputId": "281d5507-d86c-4e9e-fca1-512e3dbc6a74"
   },
   "outputs": [
    {
     "data": {
      "image/png": "[encoded data removed]",
      "text/plain": [
       "<Figure size 432x288 with 1 Axes>"
      ]
     },
     "metadata": {
      "needs_background": "light"
     },
     "output_type": "display_data"
    }
   ],
   "source": [
    "MultScatter=plt.gca()\n",
    "\n",
    "NM=MultScatter.scatter(matrix_sizes,meanruntimes, color=\"grey\")\n",
    "SM=MultScatter.scatter(matrix_sizes2,meanruntimes2, color=\"lightblue\")\n",
    "plt.legend((NM,SM),('Naive Method', 'Strassen Method'),scatterpoints=1, loc='upper left', ncol=2, fontsize=8)\n",
    "plt.xlabel(\"Dimension of Square Matrix\")\n",
    "plt.ylabel(\"Mean Run Time (Seconds)\")\n",
    "plt.title(\"Mean Run Times of Naive and Strassen methods of Matrix Multiplication\")\n",
    "plt.tight_layout()\n",
    "plt.show()"
   ]
  },
  {
   "cell_type": "markdown",
   "id": "b20c91c6",
   "metadata": {
    "id": "b20c91c6"
   },
   "source": [
    "it can see that for very small matrices, the mean run times for both methods are very similar and then they diverge.\n",
    "\n",
    "\n",
    "When selecting a technique, these factors should be considered:\n",
    "\n",
    "- Matrix Sizes,\n",
    "\n",
    "- Memory,\n",
    "\n",
    "- Hardware: Strassen's approach can benefit from parallelism in modern hardware. If the machine has numerous cores, Strassen's technique may be more effective due to parallelism.\n",
    "\n",
    "- Implementation Complexity: The naive method is simpler to implement. Strassen's method involves more complex recursive steps.\n",
    "\n",
    "By analyzing runtime, memory requirements, and other factors, then make an informed choice can be achieved between the naive and Strassen's methods for matrix multiplication.\n"
   ]
  },
  {
   "cell_type": "markdown",
   "id": "604db843",
   "metadata": {
    "id": "604db843"
   },
   "source": [
    "__________________________________________________________________"
   ]
  },
  {
   "cell_type": "markdown",
   "id": "6436133f",
   "metadata": {
    "id": "6436133f"
   },
   "source": [
    "# Q5 Discuss how you would implement the naïve method of matrix multiplication using MapReduce. Would using MapReduce change the time complexity? What factors affect the constant?\n"
   ]
  },
  {
   "cell_type": "markdown",
   "id": "eeb7cbee",
   "metadata": {
    "id": "eeb7cbee"
   },
   "source": [
    "MapReduce is a programming model that simplifies the processing of large-scale data by distributing the computation across a cluster of machines. It consists of two main phases: the Map phase, where data is processed in parallel across different nodes, and the Reduce phase, where the processed results are combined to produce the final output.\n",
    "\n",
    "To implement matrix multiplication using MapReduce, we can follow these steps:\n",
    "\n",
    "- Map Phase:\n",
    "\n",
    "Each map task takes a portion of the input matrices (rows of one matrix and columns of the other) and processes them in parallel.\n",
    "For each entry (i, j) in the resulting matrix, the map task generates intermediate key-value pairs. The key is the column index j of the resulting matrix, and the value is a tuple containing the row index i and the value of the element in matrix A (i, k) and matrix B (k, j).\n",
    "\n",
    "- Shuffle and Sort:\n",
    "\n",
    "During the shuffle and sort phase, the MapReduce framework groups together all intermediate values with the same key (column index j).\n",
    "\n",
    "- Reduce Phase:\n",
    "\n",
    "Each reduce task receives a key (column index j) and a list of values, which correspond to the values of elements that need to be multiplied together for the j-th column of the resulting matrix.\n",
    "The reduce task then performs the multiplication and summation to calculate the final value for the resulting matrix's entry (i, j).\n",
    "\n",
    "Using MapReduce for matrix multiplication can change the time complexity slightly due to the parallelism it offers. While the fundamental complexity of matrix multiplication remains O(n^3), MapReduce can help in distributing the workload across multiple machines and nodes, potentially reducing the actual time it takes to compute the result. However, it doesn't fundamentally change the algorithm's complexity class."
   ]
  },
  {
   "cell_type": "code",
   "execution_count": 18,
   "id": "bff7c8d9",
   "metadata": {
    "colab": {
     "base_uri": "https://localhost:8080/",
     "height": 0
    },
    "executionInfo": {
     "elapsed": 2072,
     "status": "ok",
     "timestamp": 1692130633040,
     "user": {
      "displayName": "Ghada Rasim",
      "userId": "04869033906634521043"
     },
     "user_tz": -180
    },
    "id": "bff7c8d9",
    "outputId": "36c089d6-61ad-4ae3-ecea-a710c27d6cab"
   },
   "outputs": [
    {
     "name": "stdout",
     "output_type": "stream",
     "text": [
      "Matrix Size: 50 x 50, Execution Time: 0.056680 seconds\n",
      "Matrix Size: 100 x 100, Execution Time: 0.151439 seconds\n",
      "Matrix Size: 150 x 150, Execution Time: 0.304070 seconds\n",
      "Matrix Size: 200 x 200, Execution Time: 0.465370 seconds\n",
      "Matrix Size: 250 x 250, Execution Time: 0.777199 seconds\n"
     ]
    }
   ],
   "source": [
    "#importing necessary libraries\n",
    "import time\n",
    "import random\n",
    "import numpy as np\n",
    "from multiprocessing import Pool, cpu_count\n",
    "\n",
    "#Matrix Multiplication Functions\n",
    "def matrix_mult_mapper(args):         #calculates the element-wise multiplication and summation of the specified row in matrix_a and column in matrix_b, returning a tuple (i, j, result).\n",
    "    matrix_a, matrix_b, i, j = args\n",
    "    return (i, j, np.sum(matrix_a[i, :] * matrix_b[:, j]))\n",
    "\n",
    "def matrix_mult_reducer(results, num_rows_a, num_cols_b):        #takes a list of results from the mappers, along with the dimensions of matrices, and constructs the resulting matrix matrix_c.\n",
    "    matrix_c = np.zeros((num_rows_a, num_cols_b))\n",
    "    for i, j, result in results:\n",
    "        matrix_c[i, j] = result\n",
    "    return matrix_c\n",
    "\n",
    "#Naive Matrix Multiplication Function\n",
    "def naive_matrix_multiplication(matrix_a, matrix_b):\n",
    "    num_rows_a, num_cols_a = matrix_a.shape\n",
    "    num_rows_b, num_cols_b = matrix_b.shape\n",
    "\n",
    "    if num_cols_a != num_rows_b:\n",
    "        raise ValueError(\"Matrix dimensions do not match for multiplication.\")\n",
    "\n",
    "    num_processes = min(cpu_count(), num_rows_a * num_cols_b)\n",
    "    chunk_size = num_rows_a * num_cols_b // num_processes\n",
    "\n",
    "    args = []\n",
    "    for i in range(num_rows_a):\n",
    "        for j in range(num_cols_b):\n",
    "            args.append((matrix_a, matrix_b, i, j))\n",
    "\n",
    "    with Pool(processes=num_processes) as pool:\n",
    "        results = pool.map(matrix_mult_mapper, args, chunksize=chunk_size)\n",
    "\n",
    "    matrix_c = matrix_mult_reducer(results, num_rows_a, num_cols_b)\n",
    "    return matrix_c\n",
    "\n",
    "def generate_random_matrix(size):      #generates a random matrix of the specified size using NumPy's randint function\n",
    "    return np.random.randint(1, 10, size=(size, size))\n",
    "\n",
    "# to measure the execution time of the naive matrix multiplication for a given matrix size.\n",
    "def measure_time_complexity(matrix_size):            #generates two random matrices of the specified size\n",
    "    matrix_a = generate_random_matrix(matrix_size)\n",
    "    matrix_b = generate_random_matrix(matrix_size)\n",
    "\n",
    "    start_time = time.time()\n",
    "    naive_matrix_multiplication(matrix_a, matrix_b)    #performs naive_matrix_multiplication function, and records the execution time\n",
    "    end_time = time.time()\n",
    "\n",
    "    return end_time - start_time\n",
    "\n",
    "if __name__ == \"__main__\":\n",
    "    matrix_sizes = [50, 100, 150, 200, 250]  # Vary this list as needed\n",
    "    for size in matrix_sizes:             #code iterates through the list, measures the execution time for each matrix size, and print it with the execution time.\n",
    "        execution_time = measure_time_complexity(size)\n",
    "        print(f\"Matrix Size: {size} x {size}, Execution Time: {execution_time:.6f} seconds\")\n"
   ]
  },
  {
   "cell_type": "markdown",
   "id": "iJoaOTZDKl0e",
   "metadata": {
    "id": "iJoaOTZDKl0e"
   },
   "source": [
    "As matrix size increases, execution time also increases due to the heightened computational requirements of matrix multiplication. The growth in execution time isn't linear; it can be tied to the cube of the matrix size due to the cubic time complexity (O(n^3)) inherent in the naive matrix multiplication algorithm. To address this, MapReduce and parallel processing are employed to distribute computations across multiple cores or processors. This parallelization prevents a direct linear increase in execution time with matrix size and enables concurrent processing of matrix elements, reducing time compared to single-threaded methods. Results illustrate the efficacy of the MapReduce approach in efficiently handling larger matrix sizes through parallel processing. This scalability is advantageous for handling big data situations, where matrices can be much larger. Overall, using the MapReduce approach with parallel processing significantly enhances matrix multiplication efficiency, enabling the handling of larger matrices within a reasonable time frame. However, it's crucial to note that the naive matrix multiplication algorithm's fundamental cubic time complexity (O(n^3)) places limits on achievable gains as matrix sizes continue to grow.\n"
   ]
  },
  {
   "cell_type": "markdown",
   "id": "AcSPvoSPBYVF",
   "metadata": {
    "id": "AcSPvoSPBYVF"
   },
   "source": [
    "\n",
    "MapReduce can affect the constant factors and performance due to improved parallelization. The execution times you've obtained from the code align with the expected trends based on the algorithm's inherent time complexity and the efficiency of the parallelization. The constant can influenced by efficient\n",
    "implementation, algorithmic overhead, memory access patterns, and hardware specifics."
   ]
  },
  {
   "cell_type": "markdown",
   "id": "223d3603",
   "metadata": {
    "id": "223d3603"
   },
   "source": [
    "Overall, the MapReduce paradigm doesn't change the underlying algorithmic time complexity, but it can impact the practical execution time due to various factors related to distribution, parallelism, data movement, and system performance. The goal is to achieve a good balance between these factors to make the distributed computation efficient."
   ]
  },
  {
   "cell_type": "markdown",
   "id": "f094250e",
   "metadata": {
    "id": "f094250e"
   },
   "source": [
    "# Summary\n",
    "\n",
    "The naive iterative approach and Strassen approach to matrix multiplication show two unique methods to compute the product of two matrices, and both have strikingly opposing advantages and limitations. Therefore, their implications will heavily depend on the conditions of the matrices to be multiplied.<br/> For large square matrices, whose dimensions are a power of two, the Strassens method is very favourable and the small reduction in the order of run time will save a lot of time for data scientists compared with the the naive method applied to the same matrices. Adaptations to the Strassen method, despite added coding complexity, may also be of further consideration, as even though they are likely to increase the order of run time, it will still compute much faster than the naive method fir very large matrices. When handling increasingly large matrices with the Strassen method, it should also be aware of the exponential increased demands on computer memory required.<br/>\n",
    "For smaller matrices, particularly when the inputs are not square matrices, the 'naive' iterative approach is favourable. This is further advised when computation and coding skills of a team is limited, as the Strassen method additions which may accomodate for non-square and to the power of two matrices, may get complex and add on extra labour time in understanding the computation and code."
   ]
  },
  {
   "cell_type": "markdown",
   "id": "x-N5KM93bo8P",
   "metadata": {
    "id": "x-N5KM93bo8P"
   },
   "source": [
    "## References\n",
    "Boschetti, A. and Massaron, L., 2015. Python data science essentials.<br/>\n",
    "ADS Lectures and labs.<br/>\n",
    "Open Internet resources like: Medium and Springer articles, github, and chatgpt\n"
   ]
  }
 ],
 "metadata": {
  "colab": {
   "provenance": []
  },
  "kernelspec": {
   "display_name": "Python 3 (ipykernel)",
   "language": "python",
   "name": "python3"
  },
  "language_info": {
   "codemirror_mode": {
    "name": "ipython",
    "version": 3
   },
   "file_extension": ".py",
   "mimetype": "text/x-python",
   "name": "python",
   "nbconvert_exporter": "python",
   "pygments_lexer": "ipython3",
   "version": "3.9.7"
  }
 },
 "nbformat": 4,
 "nbformat_minor": 5
}
